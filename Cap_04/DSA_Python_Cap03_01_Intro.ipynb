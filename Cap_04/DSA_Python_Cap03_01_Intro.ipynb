{
  "cells": [
    {
      "cell_type": "markdown",
      "metadata": {
        "id": "u0d02CuyNiAT"
      },
      "source": [
        "# <font color='blue'>Data Science Academy</font>\n",
        "\n",
        "## <font color='blue'>Fundamentos de Linguagem Python Para Análise de Dados e Data Science</font>\n",
        "\n",
        "## <font color='blue'>Capítulo 3 - Introdução à Lógica de Programação</font>"
      ]
    },
    {
      "cell_type": "code",
      "execution_count": null,
      "metadata": {
        "id": "v3ueuLg0NiAY",
        "outputId": "891af980-3e9b-4849-cdb3-8e58299eea2f"
      },
      "outputs": [
        {
          "name": "stdout",
          "output_type": "stream",
          "text": [
            "Versão da Linguagem Python Usada Neste Jupyter Notebook: 3.9.13\n"
          ]
        }
      ],
      "source": [
        "# Versão da Linguagem Python\n",
        "from platform import python_version\n",
        "print('Versão da Linguagem Python Usada Neste Jupyter Notebook:', python_version())"
      ]
    },
    {
      "cell_type": "markdown",
      "metadata": {
        "id": "d2OblLwINiAa"
      },
      "source": [
        "#### Pressione as teclas shift e enter para executar o código em uma célula ou pressione o botão Run no menu superior."
      ]
    },
    {
      "cell_type": "markdown",
      "metadata": {
        "id": "PD2nYQuFNiAa"
      },
      "source": [
        "## Pseudocódigo 1 - Calcular a Área de Um Paralelograma\n",
        "\n",
        "Nota: Um paralelogramo é um quadrilátero com lados opostos paralelos (e portanto ângulos opostos iguais). Um quadrilátero com lados iguais é chamado de losango e um paralelogramo cujos ângulos são todos ângulos retos é chamado de retângulo."
      ]
    },
    {
      "cell_type": "markdown",
      "metadata": {
        "id": "hTxFP0DyNiAb"
      },
      "source": [
        "Inicie\n",
        "    \n",
        "    Exiba \"Bem-vindo ao Calculador de Área de Paralelogramo\"\n",
        "    Peça para o usuário inserir o comprimento da base\n",
        "    Armazene o comprimento da base em uma variável\n",
        "    Peça para o usuário inserir a altura\n",
        "    Armazene a altura em uma variável\n",
        "    Calcule a área do paralelogramo:  base * altura\n",
        "    Armazene o resultado em uma variável\n",
        "    Exiba o resultado\n",
        "    \n",
        "Fim\n"
      ]
    },
    {
      "cell_type": "markdown",
      "metadata": {
        "id": "7FTtk7cINiAb"
      },
      "source": [
        "## Convertendo o Pseudocódigo 1 em Programa Python"
      ]
    },
    {
      "cell_type": "code",
      "execution_count": null,
      "metadata": {
        "id": "WikXp_m5NiAb",
        "outputId": "c3d08ce6-89b3-4519-c18b-39edcd6cd1e4"
      },
      "outputs": [
        {
          "name": "stdout",
          "output_type": "stream",
          "text": [
            "Bem-vindo ao Calculador de Área de Paralelogramo\n"
          ]
        }
      ],
      "source": [
        "print(\"Bem-vindo ao Calculador de Área de Paralelogramo\")"
      ]
    },
    {
      "cell_type": "code",
      "execution_count": null,
      "metadata": {
        "id": "rnVgQYrBNiAc",
        "outputId": "f3d12c90-ffcd-44f0-de95-d0103653d12a"
      },
      "outputs": [
        {
          "name": "stdout",
          "output_type": "stream",
          "text": [
            "Insira o comprimento da base: 4\n"
          ]
        }
      ],
      "source": [
        "base = float(input(\"Insira o comprimento da base: \"))"
      ]
    },
    {
      "cell_type": "code",
      "execution_count": null,
      "metadata": {
        "id": "LdgBrWS8NiAc",
        "outputId": "5c8cca89-fded-4d9e-c424-dc79fc681927"
      },
      "outputs": [
        {
          "name": "stdout",
          "output_type": "stream",
          "text": [
            "Insira a altura: 7\n"
          ]
        }
      ],
      "source": [
        "altura = float(input(\"Insira a altura: \"))"
      ]
    },
    {
      "cell_type": "code",
      "execution_count": null,
      "metadata": {
        "id": "ZW_xEXLyNiAd"
      },
      "outputs": [],
      "source": [
        "area = base * altura"
      ]
    },
    {
      "cell_type": "code",
      "execution_count": null,
      "metadata": {
        "id": "UY2pJj7HNiAd",
        "outputId": "e30110f2-7f06-4500-87ff-8384f446e82d"
      },
      "outputs": [
        {
          "name": "stdout",
          "output_type": "stream",
          "text": [
            "A área do paralelogramo é:  28.0\n"
          ]
        }
      ],
      "source": [
        "print(\"A área do paralelogramo é: \", area)"
      ]
    },
    {
      "cell_type": "markdown",
      "metadata": {
        "id": "bgPsjPIfNiAd"
      },
      "source": [
        "## Pseudocódigo 2 - Calculadora Simples"
      ]
    },
    {
      "cell_type": "markdown",
      "metadata": {
        "id": "c4RHN3d_NiAd"
      },
      "source": [
        "\n",
        "Inicie\n",
        "\n",
        "    Exiba \"Bem-vindo à Calculadora\"\n",
        "    Peça para o usuário inserir o primeiro número\n",
        "    Armazene o primeiro número em uma variável\n",
        "    Peça para o usuário inserir o segundo número\n",
        "    Armazene o segundo número em uma variável\n",
        "    Peça para o usuário selecionar uma operação (+, -, *, /)\n",
        "    Armazene a operação em uma variável\n",
        "    Utilize a operação selecionada e os números armazenados para realizar o cálculo\n",
        "    Exiba o resultado\n",
        "\n",
        "Fim\n"
      ]
    },
    {
      "cell_type": "markdown",
      "metadata": {
        "id": "qPYlHrmiNiAe"
      },
      "source": [
        "## Convertendo o Pseudocódigo 2 em Programa Python"
      ]
    },
    {
      "cell_type": "code",
      "execution_count": 1,
      "metadata": {
        "colab": {
          "base_uri": "https://localhost:8080/"
        },
        "id": "ibVthdjsNiAe",
        "outputId": "372553cf-fa7f-4885-a795-6c1b11146ffd"
      },
      "outputs": [
        {
          "output_type": "stream",
          "name": "stdout",
          "text": [
            "Bem-vindo à Calculadora\n"
          ]
        }
      ],
      "source": [
        "print(\"Bem-vindo à Calculadora\")"
      ]
    },
    {
      "cell_type": "code",
      "execution_count": 2,
      "metadata": {
        "colab": {
          "base_uri": "https://localhost:8080/"
        },
        "id": "ZENwLn4oNiAe",
        "outputId": "c5f34ba8-059a-492e-b3f3-8cc5168a0667"
      },
      "outputs": [
        {
          "name": "stdout",
          "output_type": "stream",
          "text": [
            "Insira o primeiro número: 2\n"
          ]
        }
      ],
      "source": [
        "num1 = float(input(\"Insira o primeiro número: \"))"
      ]
    },
    {
      "cell_type": "code",
      "execution_count": 3,
      "metadata": {
        "colab": {
          "base_uri": "https://localhost:8080/"
        },
        "id": "rohNTP4dNiAe",
        "outputId": "4b43ddb5-8a7a-425e-ca40-f94f7772f24b"
      },
      "outputs": [
        {
          "name": "stdout",
          "output_type": "stream",
          "text": [
            "Insira o segundo número: 2\n"
          ]
        }
      ],
      "source": [
        "num2 = float(input(\"Insira o segundo número: \"))"
      ]
    },
    {
      "cell_type": "code",
      "execution_count": 4,
      "metadata": {
        "colab": {
          "base_uri": "https://localhost:8080/"
        },
        "id": "krAEUCqKNiAe",
        "outputId": "e37c2fa0-c90d-4f28-d064-cac66916e216"
      },
      "outputs": [
        {
          "name": "stdout",
          "output_type": "stream",
          "text": [
            "Selecione uma operação (+, -, *, /): -\n"
          ]
        }
      ],
      "source": [
        "operacao = input(\"Selecione uma operação (+, -, *, /): \")"
      ]
    },
    {
      "cell_type": "code",
      "execution_count": null,
      "metadata": {
        "id": "Zzkg4c82NiAf",
        "outputId": "608b7a0b-7610-4919-a0fc-12b8efee8fd3"
      },
      "outputs": [
        {
          "name": "stdout",
          "output_type": "stream",
          "text": [
            "O resultado é:  12.0\n"
          ]
        }
      ],
      "source": [
        "if operacao == \"+\":\n",
        "    resultado = num1 + num2\n",
        "    print(\"O resultado é: \", resultado)\n",
        "\n",
        "elif operacao == \"-\":\n",
        "    resultado = num1 - num2\n",
        "    print(\"O resultado é: \", resultado)\n",
        "\n",
        "elif operacao == \"*\":\n",
        "    resultado = num1 * num2\n",
        "    print(\"O resultado é: \", resultado)\n",
        "\n",
        "elif operacao == \"/\":\n",
        "    resultado = num1 / num2\n",
        "    print(\"O resultado é: \", resultado)\n",
        "\n",
        "else:\n",
        "    print(\"Operação inválida.\")"
      ]
    },
    {
      "cell_type": "markdown",
      "source": [
        "Maneira simplificada"
      ],
      "metadata": {
        "id": "Q0M1XzjfRaJi"
      }
    },
    {
      "cell_type": "code",
      "source": [
        "if operacao in ['+', '-', '*', '/']:\n",
        "    resultado = eval(f\"num1 {operacao} num2\")\n",
        "    print(\"O resultado é:\", resultado)\n",
        "else:\n",
        "    print(\"Operação inválida.\")"
      ],
      "metadata": {
        "colab": {
          "base_uri": "https://localhost:8080/"
        },
        "id": "iXMjKYuHRMGG",
        "outputId": "e5278263-7bf4-4670-d0bd-f0e30737e926"
      },
      "execution_count": 5,
      "outputs": [
        {
          "output_type": "stream",
          "name": "stdout",
          "text": [
            "O resultado é: 0.0\n"
          ]
        }
      ]
    },
    {
      "cell_type": "markdown",
      "source": [
        "Essa versão utiliza a função eval() para avaliar uma string contendo a operação matemática desejada. Dessa forma, evita-se a necessidade de repetir o código para cada operação específica."
      ],
      "metadata": {
        "id": "Yt_Q7f5yReBr"
      }
    },
    {
      "cell_type": "markdown",
      "metadata": {
        "id": "JLQ3aHTWNiAf"
      },
      "source": [
        "## Pseudocódigo 3 - Algoritmo Bubble Sort\n",
        "\n",
        "Bubble Sort é um algoritmo de ordenação simples que funciona comparando cada elemento com o próximo, e trocando-os de lugar se eles estiverem em ordem incorreta. O algoritmo repete esse processo várias vezes, até que todos os elementos estejam ordenados. A cada passagem, o maior elemento \"flutua\" para o final do array, como uma bolha, dando origem ao nome do algoritmo."
      ]
    },
    {
      "cell_type": "markdown",
      "metadata": {
        "id": "WUEPCdXHNiAf"
      },
      "source": [
        "Inicie\n",
        "    \n",
        "    Para cada elemento i no array de tamanho n\n",
        "        Para cada elemento j no array de tamanho n - 1\n",
        "            Se elemento i for maior que elemento j\n",
        "                Troque os elementos i e j\n",
        "    Exiba o array ordenado\n",
        "\n",
        "Fim"
      ]
    },
    {
      "cell_type": "code",
      "execution_count": null,
      "metadata": {
        "id": "PINtDA3dNiAf"
      },
      "outputs": [],
      "source": [
        "# Considere esta lista como exemplo para ordenação com o Bubble sort\n",
        "lista = [6, 3, 12, 7]"
      ]
    },
    {
      "cell_type": "code",
      "execution_count": null,
      "metadata": {
        "id": "veqjs6r6NiAf"
      },
      "outputs": [],
      "source": [
        "# Primeira passada do algoritmo (troca os elementos 6 e 3 de lugar)\n",
        "lista = [3, 6, 12, 7]"
      ]
    },
    {
      "cell_type": "code",
      "execution_count": null,
      "metadata": {
        "id": "hCkykhm7NiAg"
      },
      "outputs": [],
      "source": [
        "# Segunda passada do algoritmo (não tem troca entre 6 e 12)\n",
        "lista = [3, 6, 12, 7]"
      ]
    },
    {
      "cell_type": "code",
      "execution_count": null,
      "metadata": {
        "id": "q9aJ6xgoNiAg"
      },
      "outputs": [],
      "source": [
        "# Terceira passada do algoritmo (troca os elementos 12 e7 de lugar)\n",
        "lista = [3, 6, 7, 12]"
      ]
    },
    {
      "cell_type": "markdown",
      "metadata": {
        "id": "76ZRiicRNiAg"
      },
      "source": [
        "## Convertendo o Pseudocódigo 3 em Programa Python"
      ]
    },
    {
      "cell_type": "code",
      "execution_count": null,
      "metadata": {
        "id": "vBu5Y7s6NiAg"
      },
      "outputs": [],
      "source": [
        "lista = [6,7,8,3,10,19,4,1,0,61,30,16,17,82,29,34,43,21,11,39,56,67,12]"
      ]
    },
    {
      "cell_type": "code",
      "execution_count": null,
      "metadata": {
        "id": "3YipFExhNiAg"
      },
      "outputs": [],
      "source": [
        "def bubble_sort(arr):\n",
        "\n",
        "    n = len(arr)\n",
        "\n",
        "    # Para cada elemento i do array\n",
        "    for i in range(n):\n",
        "\n",
        "        # Para cada elemento j do array\n",
        "        for j in range(0, n-i-1):\n",
        "\n",
        "            # Se elemento i for maior que elemento j\n",
        "            if arr[j] > arr[j+1]:\n",
        "\n",
        "                # Troque os elementos i e j\n",
        "                arr[j], arr[j+1] = arr[j+1], arr[j]\n",
        "\n",
        "    return arr"
      ]
    },
    {
      "cell_type": "code",
      "execution_count": null,
      "metadata": {
        "id": "l0LmF_cgNiAg",
        "outputId": "9be51b6c-78fb-4000-d8b9-3346cc6984d4"
      },
      "outputs": [
        {
          "name": "stdout",
          "output_type": "stream",
          "text": [
            "[0, 1, 3, 4, 6, 7, 8, 10, 11, 12, 16, 17, 19, 21, 29, 30, 34, 39, 43, 56, 61, 67, 82]\n"
          ]
        }
      ],
      "source": [
        "print(bubble_sort(lista))"
      ]
    },
    {
      "cell_type": "markdown",
      "metadata": {
        "id": "u2mnTwBxNiAh"
      },
      "source": [
        "Parece mágica! Mas não é. É a beleza da programação de computadores!"
      ]
    },
    {
      "cell_type": "code",
      "execution_count": null,
      "metadata": {
        "id": "Wi3UAMdlNiAh"
      },
      "outputs": [],
      "source": [
        "lista2 = [60,17,28,3,10,19,4,1,0,61,30,16,17,82,29,34,43,21,11,39,56,67,12]"
      ]
    },
    {
      "cell_type": "code",
      "execution_count": null,
      "metadata": {
        "id": "WWU2OGz2NiAh",
        "outputId": "6e08e9d2-2266-4b92-ea0f-548f23a3d5e3"
      },
      "outputs": [
        {
          "name": "stdout",
          "output_type": "stream",
          "text": [
            "[0, 1, 3, 4, 10, 11, 12, 16, 17, 17, 19, 21, 28, 29, 30, 34, 39, 43, 56, 60, 61, 67, 82]\n"
          ]
        }
      ],
      "source": [
        "print(bubble_sort(lista2))"
      ]
    },
    {
      "cell_type": "markdown",
      "metadata": {
        "id": "Xu1a3tYZNiAh"
      },
      "source": [
        "# Fim"
      ]
    },
    {
      "cell_type": "markdown",
      "metadata": {
        "id": "1U47sWivNiAh"
      },
      "source": [
        "### Obrigado\n",
        "\n",
        "### Visite o Blog da Data Science Academy - <a href=\"http://blog.dsacademy.com.br\">Blog DSA</a>"
      ]
    }
  ],
  "metadata": {
    "anaconda-cloud": {},
    "kernelspec": {
      "display_name": "Python 3 (ipykernel)",
      "language": "python",
      "name": "python3"
    },
    "language_info": {
      "codemirror_mode": {
        "name": "ipython",
        "version": 3
      },
      "file_extension": ".py",
      "mimetype": "text/x-python",
      "name": "python",
      "nbconvert_exporter": "python",
      "pygments_lexer": "ipython3",
      "version": "3.9.13"
    },
    "colab": {
      "provenance": []
    }
  },
  "nbformat": 4,
  "nbformat_minor": 0
}